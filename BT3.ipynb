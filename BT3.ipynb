{
 "cells": [
  {
   "cell_type": "code",
   "execution_count": 3,
   "id": "1bc96dd3",
   "metadata": {},
   "outputs": [
    {
     "name": "stdout",
     "output_type": "stream",
     "text": [
      "3\n",
      "2\n"
     ]
    }
   ],
   "source": [
    "a = int(input())\n",
    "b = int(input())\n",
    "a = a^b\n",
    "b = a^b\n",
    "a = a^b\n",
    "print(a)\n",
    "print(b)"
   ]
  },
  {
   "cell_type": "code",
   "execution_count": 7,
   "id": "4da3accc",
   "metadata": {},
   "outputs": [
    {
     "name": "stdout",
     "output_type": "stream",
     "text": [
      "Luy thua cua 2\n"
     ]
    }
   ],
   "source": [
    "n = int(input())\n",
    "if n & n-1 ==0:\n",
    "    print(\"Luy thua cua 2\")\n",
    "else:\n",
    "    print(\"Khong phai luy thua cua 2\")\n"
   ]
  },
  {
   "cell_type": "code",
   "execution_count": 12,
   "id": "c5606d77",
   "metadata": {},
   "outputs": [
    {
     "name": "stdout",
     "output_type": "stream",
     "text": [
      "1\n"
     ]
    }
   ],
   "source": [
    "from math import *\n",
    "n = int(input())\n",
    "m = int(input())\n",
    "print(ceil(n/m))"
   ]
  },
  {
   "cell_type": "code",
   "execution_count": 2,
   "id": "3fd18509",
   "metadata": {},
   "outputs": [
    {
     "name": "stdout",
     "output_type": "stream",
     "text": [
      "0\n"
     ]
    }
   ],
   "source": [
    "from math import *\n",
    "n = int(input())\n",
    "m = int(input())\n",
    "print(floor(n/m))"
   ]
  },
  {
   "cell_type": "code",
   "execution_count": 4,
   "id": "374a48d5",
   "metadata": {},
   "outputs": [
    {
     "name": "stdout",
     "output_type": "stream",
     "text": [
      "Even\n"
     ]
    }
   ],
   "source": [
    "x = int(input())\n",
    "if (x % 2 == 0):\n",
    "    print(\"Even\")\n",
    "else:\n",
    "    print(\"Odd\")\n"
   ]
  },
  {
   "cell_type": "code",
   "execution_count": 5,
   "id": "06d8bc88",
   "metadata": {},
   "outputs": [
    {
     "name": "stdout",
     "output_type": "stream",
     "text": [
      "NO\n"
     ]
    }
   ],
   "source": [
    "a, b = map(int, input().split())\n",
    "if a<0 and b<0:\n",
    "    print(\"YES\")\n",
    "else:\n",
    "    print(\"NO\")"
   ]
  },
  {
   "cell_type": "code",
   "execution_count": 9,
   "id": "fcef17d1",
   "metadata": {},
   "outputs": [
    {
     "name": "stdout",
     "output_type": "stream",
     "text": [
      "True\n"
     ]
    }
   ],
   "source": [
    "a, b = input().split()\n",
    "if len(a)>len(b):\n",
    "    print(\"True\")\n",
    "else:\n",
    "    print(\"False\")\n"
   ]
  },
  {
   "cell_type": "code",
   "execution_count": 10,
   "id": "de13e89b",
   "metadata": {},
   "outputs": [
    {
     "name": "stdout",
     "output_type": "stream",
     "text": [
      "YES\n"
     ]
    }
   ],
   "source": [
    "a, b, c = map(int, input().split())\n",
    "if a+b>c and a+c>b and b+c>a:\n",
    "    print(\"YES\")\n",
    "else: \n",
    "    print(\"NO\")\n"
   ]
  },
  {
   "cell_type": "code",
   "execution_count": 11,
   "id": "f8dc575d",
   "metadata": {},
   "outputs": [
    {
     "name": "stdout",
     "output_type": "stream",
     "text": [
      "5\n"
     ]
    }
   ],
   "source": [
    "a, b, c, d = map(int, input().split())\n",
    "print(max(a,b,c,d))"
   ]
  },
  {
   "cell_type": "code",
   "execution_count": 14,
   "id": "a0e63012",
   "metadata": {},
   "outputs": [
    {
     "name": "stdout",
     "output_type": "stream",
     "text": [
      "Tam giac can\n"
     ]
    }
   ],
   "source": [
    "a, b, c = map(int, input().split())\n",
    "if a+b>c and a+c>b and b+c>a:\n",
    "    if (a==b and b==c):\n",
    "        print(\"Tam giac deu\")\n",
    "    elif (a==b or b==c or a==c):\n",
    "        print(\"Tam giac can\")\n",
    "    elif (a*a+b*b==c*c or a*a+c*c==b*b or b*b+c*c==a*a):\n",
    "        print(\"Tam giac vuong\")\n",
    "else:\n",
    "    print(\"Khong phai tam giac\")\n"
   ]
  },
  {
   "cell_type": "code",
   "execution_count": 16,
   "id": "b5f373cd",
   "metadata": {},
   "outputs": [
    {
     "name": "stdout",
     "output_type": "stream",
     "text": [
      "Yes\n"
     ]
    }
   ],
   "source": [
    "nam = int(input())\n",
    "if (nam % 4 == 0 and nam % 100 !=0) or (nam % 400 == 0):\n",
    "    print(\"Yes\")\n",
    "else:\n",
    "    print(\"No\")\n"
   ]
  },
  {
   "cell_type": "code",
   "execution_count": null,
   "id": "203b35a3",
   "metadata": {},
   "outputs": [],
   "source": [
    "a = int(input())\n",
    "b = int(input())\n",
    "if (a==0 and b==0):\n",
    "    print(\"Vo so nghiem\")\n",
    "elif (a==0 and b!=0):\n",
    "    print(\"Vo nghiem\")\n",
    "else:\n",
    "    print(-b/a)\n"
   ]
  }
 ],
 "metadata": {
  "kernelspec": {
   "display_name": "myenv",
   "language": "python",
   "name": "python3"
  },
  "language_info": {
   "codemirror_mode": {
    "name": "ipython",
    "version": 3
   },
   "file_extension": ".py",
   "mimetype": "text/x-python",
   "name": "python",
   "nbconvert_exporter": "python",
   "pygments_lexer": "ipython3",
   "version": "3.11.13"
  }
 },
 "nbformat": 4,
 "nbformat_minor": 5
}
