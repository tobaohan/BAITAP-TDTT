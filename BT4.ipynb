{
 "cells": [
  {
   "cell_type": "code",
   "execution_count": 3,
   "id": "0dd7c815",
   "metadata": {},
   "outputs": [
    {
     "name": "stdout",
     "output_type": "stream",
     "text": [
      "10\n"
     ]
    }
   ],
   "source": [
    "n = int(input())\n",
    "s=0\n",
    "for i in range(1,n+1):\n",
    "    s+=i\n",
    "print(s)"
   ]
  },
  {
   "cell_type": "code",
   "execution_count": 12,
   "id": "9aee56d8",
   "metadata": {},
   "outputs": [
    {
     "name": "stdout",
     "output_type": "stream",
     "text": [
      "1  khong phai la so nguyen to\n"
     ]
    }
   ],
   "source": [
    "from math import *\n",
    "while True:\n",
    "    n = int(input())\n",
    "    if n>0:\n",
    "        break\n",
    "a = int(ceil(sqrt(n)))\n",
    "x=1\n",
    "if (n==1 or n==0):\n",
    "    print(n, \" khong phai la so nguyen to\")\n",
    "else:\n",
    "    for i in range(2, a+1):\n",
    "        if (n%i==0):\n",
    "            print(n, \" khong phai la so nguyen to\")\n",
    "            x=0\n",
    "            break\n",
    "    if (x==1):\n",
    "        print(n, \" la so nguyen to\")\n"
   ]
  },
  {
   "cell_type": "code",
   "execution_count": 17,
   "id": "f33bf292",
   "metadata": {},
   "outputs": [
    {
     "name": "stdout",
     "output_type": "stream",
     "text": [
      "479001600\n"
     ]
    }
   ],
   "source": [
    "n = int(input())\n",
    "tich = 1\n",
    "for i in range(1, n+1):\n",
    "    tich *=i\n",
    "print(tich)"
   ]
  },
  {
   "cell_type": "code",
   "execution_count": 18,
   "id": "c596e76f",
   "metadata": {},
   "outputs": [
    {
     "name": "stdout",
     "output_type": "stream",
     "text": [
      "It's a joke\n"
     ]
    }
   ],
   "source": [
    "n = int(input())\n",
    "tam=0\n",
    "for i in range(1, n+1):\n",
    "    a = int(input())\n",
    "    if (a==42):\n",
    "        tam=1\n",
    "if (tam==0):\n",
    "    print(\"It's a joke\")\n",
    "else: \n",
    "    print(\"I've found the meaning of life\")\n"
   ]
  },
  {
   "cell_type": "code",
   "execution_count": 3,
   "id": "9fbe8ada",
   "metadata": {},
   "outputs": [
    {
     "name": "stdout",
     "output_type": "stream",
     "text": [
      "3\n"
     ]
    }
   ],
   "source": [
    "n = int(input())\n",
    "if (n<0):\n",
    "    n=-n\n",
    "cnt=0\n",
    "while (n!=0):\n",
    "    cnt+=1\n",
    "    n//=10\n",
    "print(cnt)"
   ]
  },
  {
   "cell_type": "code",
   "execution_count": 4,
   "id": "2d7877b2",
   "metadata": {},
   "outputs": [
    {
     "name": "stdout",
     "output_type": "stream",
     "text": [
      "0\n"
     ]
    }
   ],
   "source": [
    "from math import *\n",
    "n = int(input())\n",
    "if (n%2==0):\n",
    "    cnt=1\n",
    "else:\n",
    "    cnt=0\n",
    "for i in range(2, ceil(sqrt(n))+1, 2):\n",
    "    if (n%i==0):\n",
    "        cnt+=1\n",
    "        if ((n/i)%2==0 and n/i!=i):\n",
    "            cnt+=1\n",
    "print(cnt)\n",
    "        "
   ]
  },
  {
   "cell_type": "code",
   "execution_count": 6,
   "id": "e8de7a3a",
   "metadata": {},
   "outputs": [
    {
     "name": "stdout",
     "output_type": "stream",
     "text": [
      "13\n"
     ]
    }
   ],
   "source": [
    "from math import * \n",
    "x = int(input())\n",
    "n = int(input())\n",
    "for i in range(1, n+1):\n",
    "    x = x * 1.007\n",
    "print(floor(x))\n"
   ]
  },
  {
   "cell_type": "code",
   "execution_count": 8,
   "id": "054cdb27",
   "metadata": {},
   "outputs": [
    {
     "name": "stdout",
     "output_type": "stream",
     "text": [
      "false\n"
     ]
    }
   ],
   "source": [
    "from math import *  \n",
    "a = int(input())\n",
    "b = int(input())\n",
    "tong_uoc_a = 1\n",
    "tong_uoc_b = 1\n",
    "for i in range(2, ceil(sqrt(a))+1):\n",
    "    if (a%i==0):\n",
    "        tong_uoc_a+=i\n",
    "        if (a/i!=i):\n",
    "            tong_uoc_a+=a/i\n",
    "for i in range(2, ceil(sqrt(b))+1):\n",
    "    if (b%i==0):\n",
    "        tong_uoc_b+=i\n",
    "        if (b/i!=i):\n",
    "            tong_uoc_b+=b/i\n",
    "if (tong_uoc_a==b and tong_uoc_b==a):\n",
    "    print(\"true\")\n",
    "else :\n",
    "    print(\"false\")"
   ]
  },
  {
   "cell_type": "code",
   "execution_count": 9,
   "id": "1d8ad6e3",
   "metadata": {},
   "outputs": [
    {
     "name": "stdout",
     "output_type": "stream",
     "text": [
      "12\n"
     ]
    }
   ],
   "source": [
    "a = int(input())\n",
    "b = int(input())\n",
    "while (b!=0):\n",
    "    a, b = b, a%b\n",
    "print(a)"
   ]
  }
 ],
 "metadata": {
  "kernelspec": {
   "display_name": "myenv",
   "language": "python",
   "name": "python3"
  },
  "language_info": {
   "codemirror_mode": {
    "name": "ipython",
    "version": 3
   },
   "file_extension": ".py",
   "mimetype": "text/x-python",
   "name": "python",
   "nbconvert_exporter": "python",
   "pygments_lexer": "ipython3",
   "version": "3.11.13"
  }
 },
 "nbformat": 4,
 "nbformat_minor": 5
}
